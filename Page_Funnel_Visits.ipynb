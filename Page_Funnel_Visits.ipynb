{
 "cells": [
  {
   "cell_type": "code",
   "execution_count": 1,
   "metadata": {},
   "outputs": [],
   "source": [
    "###\n",
    "#   AUTHOR:   Jacob L. Miller\n",
    "#   DATE:     September 21, 2023\n",
    "#   PROJECT:  Page Visits Funnel\n",
    "###"
   ]
  },
  {
   "cell_type": "code",
   "execution_count": 2,
   "metadata": {},
   "outputs": [],
   "source": [
    "import pandas as pd"
   ]
  },
  {
   "cell_type": "markdown",
   "metadata": {},
   "source": [
    "Import all the files"
   ]
  },
  {
   "cell_type": "code",
   "execution_count": 3,
   "metadata": {},
   "outputs": [],
   "source": [
    "visits = pd.read_csv('visits.csv',\n",
    "                     parse_dates=[1])\n",
    "cart = pd.read_csv('cart.csv',\n",
    "                   parse_dates=[1])\n",
    "                   \n",
    "checkout = pd.read_csv('checkout.csv',\n",
    "                       parse_dates=[1])\n",
    "purchase = pd.read_csv('purchase.csv',\n",
    "                       parse_dates=[1])"
   ]
  },
  {
   "cell_type": "markdown",
   "metadata": {},
   "source": [
    "Step 1: Inspect the DataFrames using `print` and `head`"
   ]
  },
  {
   "cell_type": "code",
   "execution_count": 4,
   "metadata": {},
   "outputs": [
    {
     "name": "stdout",
     "output_type": "stream",
     "text": [
      "                                user_id          visit_time\n",
      "0  943647ef-3682-4750-a2e1-918ba6f16188 2017-04-07 15:14:00\n",
      "1  0c3a3dd0-fb64-4eac-bf84-ba069ce409f2 2017-01-26 14:24:00\n",
      "2  6e0b2d60-4027-4d9a-babd-0e7d40859fb1 2017-08-20 08:23:00\n",
      "3  6879527e-c5a6-4d14-b2da-50b85212b0ab 2017-11-04 18:15:00\n",
      "4  a84327ff-5daa-4ba1-b789-d5b4caf81e96 2017-02-27 11:25:00\n",
      "                                user_id           cart_time\n",
      "0  2be90e7c-9cca-44e0-bcc5-124b945ff168 2017-11-07 20:45:00\n",
      "1  4397f73f-1da3-4ab3-91af-762792e25973 2017-05-27 01:35:00\n",
      "2  a9db3d4b-0a0a-4398-a55a-ebb2c7adf663 2017-03-04 10:38:00\n",
      "3  b594862a-36c5-47d5-b818-6e9512b939b3 2017-09-27 08:22:00\n",
      "4  a68a16e2-94f0-4ce8-8ce3-784af0bbb974 2017-07-26 15:48:00\n",
      "                                user_id       checkout_time\n",
      "0  d33bdc47-4afa-45bc-b4e4-dbe948e34c0d 2017-06-25 09:29:00\n",
      "1  4ac186f0-9954-4fea-8a27-c081e428e34e 2017-04-07 20:11:00\n",
      "2  3c9c78a7-124a-4b77-8d2e-e1926e011e7d 2017-07-13 11:38:00\n",
      "3  89fe330a-8966-4756-8f7c-3bdbcd47279a 2017-04-20 16:15:00\n",
      "4  3ccdaf69-2d30-40de-b083-51372881aedd 2017-01-08 20:52:00\n",
      "                                user_id       purchase_time\n",
      "0  4b44ace4-2721-47a0-b24b-15fbfa2abf85 2017-05-11 04:25:00\n",
      "1  02e684ae-a448-408f-a9ff-dcb4a5c99aac 2017-09-05 08:45:00\n",
      "2  4b4bc391-749e-4b90-ab8f-4f6e3c84d6dc 2017-11-20 20:49:00\n",
      "3  a5dbb25f-3c36-4103-9030-9f7c6241cd8d 2017-01-22 15:18:00\n",
      "4  46a3186d-7f5a-4ab9-87af-84d05bfd4867 2017-06-11 11:32:00\n"
     ]
    }
   ],
   "source": [
    "print(visits.head(5))\n",
    "print(cart.head(5))\n",
    "print(checkout.head(5))\n",
    "print(purchase.head(5))"
   ]
  },
  {
   "cell_type": "markdown",
   "metadata": {},
   "source": [
    "Step 2: Left merging visits and cart"
   ]
  },
  {
   "cell_type": "code",
   "execution_count": 5,
   "metadata": {},
   "outputs": [],
   "source": [
    "# left merge visits df with cart df to get data of users who did\n",
    "# and did not add a shirt to their cart\n",
    "visits_cart = pd.merge(visits, cart, how='left')"
   ]
  },
  {
   "cell_type": "markdown",
   "metadata": {},
   "source": [
    "Step 3: How long is `visits_cart`?"
   ]
  },
  {
   "cell_type": "code",
   "execution_count": 6,
   "metadata": {},
   "outputs": [
    {
     "name": "stdout",
     "output_type": "stream",
     "text": [
      "2000\n"
     ]
    }
   ],
   "source": [
    "# determine number of users who visited the website\n",
    "print(visits_cart.shape[0])"
   ]
  },
  {
   "cell_type": "markdown",
   "metadata": {},
   "source": [
    "Step 4: How many timestamps are null for `cart_time`?"
   ]
  },
  {
   "cell_type": "code",
   "execution_count": 7,
   "metadata": {},
   "outputs": [
    {
     "name": "stdout",
     "output_type": "stream",
     "text": [
      "                                user_id          visit_time  \\\n",
      "0  943647ef-3682-4750-a2e1-918ba6f16188 2017-04-07 15:14:00   \n",
      "1  0c3a3dd0-fb64-4eac-bf84-ba069ce409f2 2017-01-26 14:24:00   \n",
      "2  6e0b2d60-4027-4d9a-babd-0e7d40859fb1 2017-08-20 08:23:00   \n",
      "3  6879527e-c5a6-4d14-b2da-50b85212b0ab 2017-11-04 18:15:00   \n",
      "4  a84327ff-5daa-4ba1-b789-d5b4caf81e96 2017-02-27 11:25:00   \n",
      "\n",
      "            cart_time  \n",
      "0                 NaT  \n",
      "1 2017-01-26 14:44:00  \n",
      "2 2017-08-20 08:31:00  \n",
      "3                 NaT  \n",
      "4                 NaT  \n",
      "1652\n"
     ]
    }
   ],
   "source": [
    "print(visits_cart.head())\n",
    "\n",
    "# determine number of users who did not add a shirt to their cart\n",
    "num_only_visited = visits_cart[visits_cart['cart_time'].isnull()].shape[0]\n",
    "print(num_only_visited)"
   ]
  },
  {
   "cell_type": "markdown",
   "metadata": {},
   "source": [
    "Step 5: What percentage only visited?"
   ]
  },
  {
   "cell_type": "code",
   "execution_count": 8,
   "metadata": {},
   "outputs": [
    {
     "name": "stdout",
     "output_type": "stream",
     "text": [
      "Percentage of users who visited the website but didn't add anything to their cart: 82.6%\n"
     ]
    }
   ],
   "source": [
    "# determine percentage of users who visited the website but\n",
    "# did not add a shirt to their cart\n",
    "pct_only_visited = num_only_visited / visits_cart.shape[0] * 100\n",
    "pct_only_visited = round(pct_only_visited * 100) / 100\n",
    "print('Percentage of users who visited the website but didn\\'t add anything to their cart: {}%'.format(pct_only_visited))"
   ]
  },
  {
   "cell_type": "markdown",
   "metadata": {},
   "source": [
    "Step 6: What percentage placed a t-shirt in their cart but did not checkout?"
   ]
  },
  {
   "cell_type": "code",
   "execution_count": 9,
   "metadata": {},
   "outputs": [
    {
     "name": "stdout",
     "output_type": "stream",
     "text": [
      "                                user_id           cart_time  \\\n",
      "0  2be90e7c-9cca-44e0-bcc5-124b945ff168 2017-11-07 20:45:00   \n",
      "1  4397f73f-1da3-4ab3-91af-762792e25973 2017-05-27 01:35:00   \n",
      "2  a9db3d4b-0a0a-4398-a55a-ebb2c7adf663 2017-03-04 10:38:00   \n",
      "3  b594862a-36c5-47d5-b818-6e9512b939b3 2017-09-27 08:22:00   \n",
      "4  a68a16e2-94f0-4ce8-8ce3-784af0bbb974 2017-07-26 15:48:00   \n",
      "\n",
      "        checkout_time  \n",
      "0 2017-11-07 21:14:00  \n",
      "1                 NaT  \n",
      "2 2017-03-04 11:04:00  \n",
      "3 2017-09-27 08:26:00  \n",
      "4                 NaT   \n",
      "\n",
      "Percentage of users who added a shirt to their cart but did not checkout: 35.06%\n"
     ]
    }
   ],
   "source": [
    "# left-merge cart df with checkout df to generate\n",
    "# df to see which users added something to their cart\n",
    "# and went to checkout as well as those who did not go\n",
    "# to checkout\n",
    "cart_to_checkout = pd.merge(cart, checkout, how='left')\n",
    "print(cart_to_checkout.head(), '\\n')\n",
    "\n",
    "# determine number of users who added something to their\n",
    "# cart but did not make it to checkout\n",
    "num_no_checkout = cart_to_checkout[cart_to_checkout['checkout_time'].isnull()].shape[0]\n",
    "\n",
    "# determine percentage of users who added something to their\n",
    "# cart but did not make it to checkout\n",
    "pct_no_checkout = num_no_checkout / cart_to_checkout.shape[0] * 100\n",
    "pct_no_checkout = round(pct_no_checkout * 100) / 100\n",
    "print('Percentage of users who added a shirt to their cart but did not checkout: {}%'.format(pct_no_checkout))"
   ]
  },
  {
   "cell_type": "markdown",
   "metadata": {},
   "source": [
    "Step 7: Merge it all together"
   ]
  },
  {
   "cell_type": "code",
   "execution_count": 10,
   "metadata": {
    "scrolled": true
   },
   "outputs": [
    {
     "name": "stdout",
     "output_type": "stream",
     "text": [
      "                                user_id          visit_time  \\\n",
      "0  943647ef-3682-4750-a2e1-918ba6f16188 2017-04-07 15:14:00   \n",
      "1  0c3a3dd0-fb64-4eac-bf84-ba069ce409f2 2017-01-26 14:24:00   \n",
      "2  6e0b2d60-4027-4d9a-babd-0e7d40859fb1 2017-08-20 08:23:00   \n",
      "3  6879527e-c5a6-4d14-b2da-50b85212b0ab 2017-11-04 18:15:00   \n",
      "4  a84327ff-5daa-4ba1-b789-d5b4caf81e96 2017-02-27 11:25:00   \n",
      "5  7bc62113-d51d-4e6b-85e0-1cf29e3de74a 2017-06-03 20:05:00   \n",
      "6  6f22cd44-bc63-4449-a9af-2651859da2f9 2017-03-18 23:09:00   \n",
      "7  49a6399b-c095-4e42-92eb-af90abe2bb6a 2017-01-10 12:09:00   \n",
      "8  653c095d-fd74-40dd-ae3b-5a69a2613629 2017-06-27 19:21:00   \n",
      "9  3d9fdac1-aae3-4a01-b448-934d12047468 2017-09-24 06:43:00   \n",
      "\n",
      "            cart_time       checkout_time       purchase_time  \n",
      "0                 NaT                 NaT                 NaT  \n",
      "1 2017-01-26 14:44:00 2017-01-26 14:54:00 2017-01-26 15:08:00  \n",
      "2 2017-08-20 08:31:00                 NaT                 NaT  \n",
      "3                 NaT                 NaT                 NaT  \n",
      "4                 NaT                 NaT                 NaT  \n",
      "5                 NaT                 NaT                 NaT  \n",
      "6                 NaT                 NaT                 NaT  \n",
      "7                 NaT                 NaT                 NaT  \n",
      "8                 NaT                 NaT                 NaT  \n",
      "9                 NaT                 NaT                 NaT  \n"
     ]
    }
   ],
   "source": [
    "# combine all dataframes to get full list of information on users who have \n",
    "# been on the website in any capacity\n",
    "all_data = visits_cart.merge(cart_to_checkout, how='left').merge(purchase, how='left')\n",
    "print(all_data.head(10))"
   ]
  },
  {
   "cell_type": "markdown",
   "metadata": {},
   "source": [
    "Step 8: % of users who got to checkout but did not purchase"
   ]
  },
  {
   "cell_type": "code",
   "execution_count": 11,
   "metadata": {},
   "outputs": [
    {
     "name": "stdout",
     "output_type": "stream",
     "text": [
      "                                user_id       checkout_time  \\\n",
      "0  d33bdc47-4afa-45bc-b4e4-dbe948e34c0d 2017-06-25 09:29:00   \n",
      "1  d33bdc47-4afa-45bc-b4e4-dbe948e34c0d 2017-06-25 09:29:00   \n",
      "2  d33bdc47-4afa-45bc-b4e4-dbe948e34c0d 2017-06-25 09:29:00   \n",
      "3  4ac186f0-9954-4fea-8a27-c081e428e34e 2017-04-07 20:11:00   \n",
      "4  3c9c78a7-124a-4b77-8d2e-e1926e011e7d 2017-07-13 11:38:00   \n",
      "\n",
      "        purchase_time  \n",
      "0 2017-06-25 09:49:00  \n",
      "1 2017-06-25 09:56:00  \n",
      "2 2017-06-25 09:57:00  \n",
      "3                 NaT  \n",
      "4                 NaT   \n",
      "\n",
      "Number of users who made it to checkout but did not make a purchase: 82\n",
      "Percentage of users who made it to checkout but did not make a purchase: 24.55%\n"
     ]
    }
   ],
   "source": [
    "# left-merge checkout df with purchase df to generate\n",
    "# df to see which users made it to checkout and made\n",
    "# a purchase as well as those who did not make a \n",
    "# purchase\n",
    "checkout_to_purchase = pd.merge(checkout, purchase, how='left')\n",
    "print(checkout_to_purchase.head(), '\\n')\n",
    "\n",
    "# determine number of users who made it to checkout but\n",
    "# did not make a purchase\n",
    "num_no_purchase = checkout_to_purchase[checkout_to_purchase['purchase_time'].isnull()].shape[0]\n",
    "print('Number of users who made it to checkout but did not make a purchase: {}'.format(num_no_purchase))\n",
    "\n",
    "# determine percentage of users who made it to checkout \n",
    "# but did not make a purchase\n",
    "pct_no_purchase = num_no_purchase / checkout_to_purchase.shape[0] * 100\n",
    "pct_no_purchase = round(pct_no_purchase * 100) / 100\n",
    "print('Percentage of users who made it to checkout but did not make a purchase: {}%'.format(pct_no_purchase))"
   ]
  },
  {
   "cell_type": "markdown",
   "metadata": {},
   "source": [
    "Step 9: check each part of the funnel, let's print all 3 of them again"
   ]
  },
  {
   "cell_type": "code",
   "execution_count": 12,
   "metadata": {},
   "outputs": [
    {
     "name": "stdout",
     "output_type": "stream",
     "text": [
      "Percentage of users who visited the website but didn't add anything to their cart ............. 82.6%\n",
      "Percentage of users who added something to their cart but didn't make it to checkout .......... 35.06%\n",
      "Percentage of users who went to checkout but didn't make a purchase ........................... 24.55%\n"
     ]
    }
   ],
   "source": [
    "# print out the statistics for each stage of the website's funnel \n",
    "# to determine which stage is the weakest\n",
    "\n",
    "# Seeing as how nearly 83% of users who visited the website didn't go\n",
    "# to the next stage, while each other stage saw at least 65% \n",
    "# of the users move on to the next stage, it is quite apparent that \n",
    "# the first stage is the weakest\n",
    "print('Percentage of users who visited the website but didn\\'t add anything to their cart ............. {}%'.format(pct_only_visited))\n",
    "print('Percentage of users who added something to their cart but didn\\'t make it to checkout .......... {}%'.format(pct_no_checkout))\n",
    "print('Percentage of users who went to checkout but didn\\'t make a purchase ........................... {}%'.format(pct_no_purchase))"
   ]
  },
  {
   "cell_type": "markdown",
   "metadata": {},
   "source": [
    "*The weakest part of the funnel is clearly getting a person who visited the site to add a tshirt to their cart. Once they've added a t-shirt to their cart it is fairly likely they end up purchasing it. A suggestion could be to make the add-to-cart button more prominent on the front page.*\n",
    "\n",
    "\n",
    "Step 10: adding new column"
   ]
  },
  {
   "cell_type": "code",
   "execution_count": 13,
   "metadata": {},
   "outputs": [],
   "source": [
    "# add column to all_data df to hold the time for each \n",
    "# user to make a purchase from the time they visit\n",
    "# the website\n",
    "all_data['time_to_purchase'] = all_data['purchase_time'] - all_data['visit_time']"
   ]
  },
  {
   "cell_type": "markdown",
   "metadata": {},
   "source": [
    "Step 11: examine the results"
   ]
  },
  {
   "cell_type": "code",
   "execution_count": 14,
   "metadata": {},
   "outputs": [
    {
     "name": "stdout",
     "output_type": "stream",
     "text": [
      "1    0 days 00:44:00\n",
      "14   0 days 00:38:00\n",
      "48   0 days 00:41:00\n",
      "49   0 days 01:00:00\n",
      "65   0 days 01:00:00\n",
      "70   0 days 00:34:00\n",
      "71   0 days 00:35:00\n",
      "72   0 days 00:53:00\n",
      "75   0 days 00:36:00\n",
      "76   0 days 00:25:00\n",
      "Name: time_to_purchase, dtype: timedelta64[ns]\n"
     ]
    }
   ],
   "source": [
    "print(all_data['time_to_purchase'][~all_data['time_to_purchase'].isnull()].head(10))"
   ]
  },
  {
   "cell_type": "markdown",
   "metadata": {},
   "source": [
    "Step 12: average time to purchase"
   ]
  },
  {
   "cell_type": "code",
   "execution_count": 15,
   "metadata": {},
   "outputs": [
    {
     "name": "stdout",
     "output_type": "stream",
     "text": [
      "0 days 00:43:12.380952380\n"
     ]
    }
   ],
   "source": [
    "# calculate the average time it takes a user to make\n",
    "# a purchase from the moment they visit the website\n",
    "mean_purchase_time = all_data['time_to_purchase'].mean()\n",
    "print(mean_purchase_time)"
   ]
  },
  {
   "cell_type": "code",
   "execution_count": null,
   "metadata": {},
   "outputs": [],
   "source": []
  }
 ],
 "metadata": {
  "kernelspec": {
   "display_name": "Python 3 (ipykernel)",
   "language": "python",
   "name": "python3"
  },
  "language_info": {
   "codemirror_mode": {
    "name": "ipython",
    "version": 3
   },
   "file_extension": ".py",
   "mimetype": "text/x-python",
   "name": "python",
   "nbconvert_exporter": "python",
   "pygments_lexer": "ipython3",
   "version": "3.11.5"
  }
 },
 "nbformat": 4,
 "nbformat_minor": 4
}
